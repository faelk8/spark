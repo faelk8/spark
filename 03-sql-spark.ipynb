{
 "cells": [
  {
   "cell_type": "code",
   "execution_count": 1,
   "metadata": {},
   "outputs": [
    {
     "name": "stderr",
     "output_type": "stream",
     "text": [
      "Setting default log level to \"WARN\".\n",
      "To adjust logging level use sc.setLogLevel(newLevel). For SparkR, use setLogLevel(newLevel).\n",
      "24/02/02 06:46:05 WARN NativeCodeLoader: Unable to load native-hadoop library for your platform... using builtin-java classes where applicable\n",
      "24/02/02 06:46:05 WARN Utils: Service 'SparkUI' could not bind on port 4040. Attempting port 4041.\n",
      "24/02/02 06:46:05 WARN Utils: Service 'SparkUI' could not bind on port 4041. Attempting port 4042.\n"
     ]
    }
   ],
   "source": [
    "import findspark\n",
    "findspark.init()\n",
    "from pyspark.sql import SparkSession\n",
    "from pyspark.sql.types import DoubleType, StringType\n",
    "from pyspark.sql import functions as f\n",
    "import warnings\n",
    "warnings.filterwarnings('ignore')\n",
    "\n",
    "spark = SparkSession.builder.master('local[*]').getOrCreate()"
   ]
  },
  {
   "cell_type": "code",
   "execution_count": 2,
   "metadata": {},
   "outputs": [
    {
     "name": "stderr",
     "output_type": "stream",
     "text": [
      "                                                                                \r"
     ]
    }
   ],
   "source": [
    "path_estabelecimento = '/home/rafael/Downloads/estabelecimentos/'\n",
    "estabelecimento = spark.read.csv(path_estabelecimento, sep=';', inferSchema=True)\n",
    "\n",
    "\n",
    "path_empresas = '/home/rafael/Downloads/socios/'\n",
    "empresas = spark.read.csv(path_empresas, sep=';', inferSchema=True)"
   ]
  },
  {
   "cell_type": "code",
   "execution_count": 3,
   "metadata": {},
   "outputs": [],
   "source": [
    "estabsColNames = ['cnpj_basico', 'cnpj_ordem', 'cnpj_dv', 'identificador_matriz_filial', 'nome_fantasia', 'situacao_cadastral', 'data_situacao_cadastral', 'motivo_situacao_cadastral', 'nome_da_cidade_no_exterior', 'pais', 'data_de_inicio_atividade', 'cnae_fiscal_principal', 'cnae_fiscal_secundaria', 'tipo_de_logradouro', 'logradouro', 'numero', 'complemento', 'bairro', 'cep', 'uf', 'municipio', 'ddd_1', 'telefone_1', 'ddd_2', 'telefone_2', 'ddd_do_fax', 'fax', 'correio_eletronico', 'situacao_especial', 'data_da_situacao_especial']\n",
    "\n",
    "empresasColNames = ['cnpj_basico', 'identificador_de_socio', 'nome_do_socio_ou_razao_social', 'cnpj_ou_cpf_do_socio', 'qualificacao_do_socio', 'data_de_entrada_sociedade', 'pais', 'representante_legal', 'nome_do_representante', 'qualificacao_do_representante_legal', 'faixa_etaria']"
   ]
  },
  {
   "cell_type": "code",
   "execution_count": 4,
   "metadata": {},
   "outputs": [],
   "source": [
    "for index, colName in enumerate(empresasColNames):\n",
    "    empresas = empresas.withColumnRenamed(f\"_c{index}\", colName)"
   ]
  },
  {
   "cell_type": "code",
   "execution_count": 5,
   "metadata": {},
   "outputs": [],
   "source": [
    "for index, colName in enumerate(estabsColNames):\n",
    "    estabelecimento = estabelecimento.withColumnRenamed(f\"_c{index}\", colName)"
   ]
  },
  {
   "cell_type": "code",
   "execution_count": 6,
   "metadata": {},
   "outputs": [],
   "source": [
    "empresas = empresas.withColumn('qualificacao_do_socio', f.regexp_replace('qualificacao_do_socio',',','.'))\n",
    "empresas = empresas.withColumn('qualificacao_do_socio', empresas['qualificacao_do_socio'].cast(DoubleType()))\n",
    "empresas = empresas.withColumn(\"data_de_entrada_sociedade\", f.to_date(empresas.data_de_entrada_sociedade.cast(StringType()),'yyyyMMdd'))"
   ]
  },
  {
   "cell_type": "code",
   "execution_count": 7,
   "metadata": {},
   "outputs": [],
   "source": [
    "empresas.createOrReplaceTempView('empresasView')"
   ]
  },
  {
   "cell_type": "code",
   "execution_count": 9,
   "metadata": {},
   "outputs": [
    {
     "name": "stdout",
     "output_type": "stream",
     "text": [
      "+-----------+----------------------+-----------------------------+--------------------+---------------------+-------------------------+----+-------------------+---------------------+-----------------------------------+------------+\n",
      "|cnpj_basico|identificador_de_socio|nome_do_socio_ou_razao_social|cnpj_ou_cpf_do_socio|qualificacao_do_socio|data_de_entrada_sociedade|pais|representante_legal|nome_do_representante|qualificacao_do_representante_legal|faixa_etaria|\n",
      "+-----------+----------------------+-----------------------------+--------------------+---------------------+-------------------------+----+-------------------+---------------------+-----------------------------------+------------+\n",
      "|        411|                     2|         LILIANA PATRICIA ...|         ***678188**|                 22.0|               1994-07-25|null|        ***000000**|                 null|                                  0|           7|\n",
      "|        411|                     2|         CRISTINA HUNDERTMARK|         ***637848**|                 28.0|               1994-07-25|null|        ***000000**|                 null|                                  0|           7|\n",
      "|       5813|                     2|         CELSO EDUARDO DE ...|         ***786068**|                 49.0|               1994-05-16|null|        ***000000**|                 null|                                  0|           8|\n",
      "|       5813|                     2|         EDUARDO BERRINGER...|         ***442348**|                 49.0|               1994-05-16|null|        ***000000**|                 null|                                  0|           5|\n",
      "|      14798|                     2|          HANNE MAHFOUD FADEL|         ***760388**|                 49.0|               1994-06-09|null|        ***000000**|                 null|                                  0|           8|\n",
      "+-----------+----------------------+-----------------------------+--------------------+---------------------+-------------------------+----+-------------------+---------------------+-----------------------------------+------------+\n",
      "only showing top 5 rows\n",
      "\n"
     ]
    }
   ],
   "source": [
    "spark.sql('SELECT * FROM empresasView').show(5)"
   ]
  },
  {
   "cell_type": "code",
   "execution_count": 11,
   "metadata": {},
   "outputs": [
    {
     "name": "stdout",
     "output_type": "stream",
     "text": [
      "+-----------+----------------------+-----------------------------+--------------------+---------------------+-------------------------+----+-------------------+---------------------+-----------------------------------+------------+\n",
      "|cnpj_basico|identificador_de_socio|nome_do_socio_ou_razao_social|cnpj_ou_cpf_do_socio|qualificacao_do_socio|data_de_entrada_sociedade|pais|representante_legal|nome_do_representante|qualificacao_do_representante_legal|faixa_etaria|\n",
      "+-----------+----------------------+-----------------------------+--------------------+---------------------+-------------------------+----+-------------------+---------------------+-----------------------------------+------------+\n",
      "|        411|                     2|         LILIANA PATRICIA ...|         ***678188**|                 22.0|               1994-07-25|null|        ***000000**|                 null|                                  0|           7|\n",
      "|        411|                     2|         CRISTINA HUNDERTMARK|         ***637848**|                 28.0|               1994-07-25|null|        ***000000**|                 null|                                  0|           7|\n",
      "|       5813|                     2|         CELSO EDUARDO DE ...|         ***786068**|                 49.0|               1994-05-16|null|        ***000000**|                 null|                                  0|           8|\n",
      "|       5813|                     2|         EDUARDO BERRINGER...|         ***442348**|                 49.0|               1994-05-16|null|        ***000000**|                 null|                                  0|           5|\n",
      "|      14798|                     2|          HANNE MAHFOUD FADEL|         ***760388**|                 49.0|               1994-06-09|null|        ***000000**|                 null|                                  0|           8|\n",
      "+-----------+----------------------+-----------------------------+--------------------+---------------------+-------------------------+----+-------------------+---------------------+-----------------------------------+------------+\n",
      "only showing top 5 rows\n",
      "\n"
     ]
    }
   ],
   "source": [
    "spark\\\n",
    "    .sql(\"\"\"\n",
    "        SELECT * \n",
    "            FROM empresasView \n",
    "            WHERE faixa_etaria >3\n",
    "    \"\"\")\\\n",
    "    .show(5)"
   ]
  },
  {
   "cell_type": "code",
   "execution_count": 12,
   "metadata": {},
   "outputs": [
    {
     "name": "stderr",
     "output_type": "stream",
     "text": [
      "[Stage 6:>                                                        (0 + 10) / 10]\r"
     ]
    },
    {
     "name": "stdout",
     "output_type": "stream",
     "text": [
      "+---------------------+-----------------+\n",
      "|qualificacao_do_socio|            Media|\n",
      "+---------------------+-----------------+\n",
      "|                  8.0| 5.71825764596849|\n",
      "|                 49.0|5.494259246467019|\n",
      "|                 29.0|6.221374045801527|\n",
      "|                 18.0|6.623809523809523|\n",
      "|                 37.0|              0.0|\n",
      "+---------------------+-----------------+\n",
      "only showing top 5 rows\n",
      "\n"
     ]
    },
    {
     "name": "stderr",
     "output_type": "stream",
     "text": [
      "                                                                                \r"
     ]
    }
   ],
   "source": [
    "spark\\\n",
    "    .sql(\"\"\"\n",
    "        SELECT qualificacao_do_socio, MEAN(faixa_etaria) AS Media \n",
    "            FROM empresasView \n",
    "            GROUP BY qualificacao_do_socio\n",
    "    \"\"\")\\\n",
    "    .show(5)"
   ]
  }
 ],
 "metadata": {
  "kernelspec": {
   "display_name": "base",
   "language": "python",
   "name": "python3"
  },
  "language_info": {
   "codemirror_mode": {
    "name": "ipython",
    "version": 3
   },
   "file_extension": ".py",
   "mimetype": "text/x-python",
   "name": "python",
   "nbconvert_exporter": "python",
   "pygments_lexer": "ipython3",
   "version": "3.11.7"
  }
 },
 "nbformat": 4,
 "nbformat_minor": 2
}
