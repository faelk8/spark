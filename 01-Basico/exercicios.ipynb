{
 "cells": [
  {
   "cell_type": "code",
   "execution_count": 17,
   "metadata": {},
   "outputs": [],
   "source": [
    "import findspark\n",
    "findspark.init()\n",
    "\n",
    "from pyspark.sql import SparkSession\n",
    "from pyspark.sql import functions as f\n",
    "\n",
    "import warnings\n",
    "warnings.filterwarnings('ignore')"
   ]
  },
  {
   "cell_type": "code",
   "execution_count": 18,
   "metadata": {},
   "outputs": [],
   "source": [
    "spark = SparkSession.builder.master('local[*]').getOrCreate()"
   ]
  },
  {
   "cell_type": "markdown",
   "metadata": {},
   "source": [
    "## 1 - Pegue o último sobre nome colocando na frente seguido de vígula e o primeiro nome."
   ]
  },
  {
   "cell_type": "code",
   "execution_count": 19,
   "metadata": {},
   "outputs": [
    {
     "name": "stdout",
     "output_type": "stream",
     "text": [
      "+------------------------------+-----+\n",
      "|nome                          |idade|\n",
      "+------------------------------+-----+\n",
      "|GISELLE PAULA GUIMARAES CASTRO|15   |\n",
      "|ELAINE GARCIA DE OLIVEIRA     |22   |\n",
      "|JOAO CARLOS ABNER DE LOURDES  |43   |\n",
      "|MARTA ZELI FERREIRA           |24   |\n",
      "|LAUDENETE WIGGERS ROEDER      |51   |\n",
      "+------------------------------+-----+\n",
      "\n"
     ]
    }
   ],
   "source": [
    "data = [\n",
    "    ('GISELLE PAULA GUIMARAES CASTRO', 15),\n",
    "    ('ELAINE GARCIA DE OLIVEIRA', 22),\n",
    "    ('JOAO CARLOS ABNER DE LOURDES', 43),\n",
    "    ('MARTA ZELI FERREIRA', 24),\n",
    "    ('LAUDENETE WIGGERS ROEDER', 51)\n",
    "]\n",
    "colNames = ['nome', 'idade']\n",
    "df = spark.createDataFrame(data, colNames)\n",
    "df.show(truncate=False)"
   ]
  },
  {
   "cell_type": "code",
   "execution_count": 20,
   "metadata": {},
   "outputs": [
    {
     "name": "stdout",
     "output_type": "stream",
     "text": [
      "+-----------------+-----+\n",
      "|ident            |idade|\n",
      "+-----------------+-----+\n",
      "|CASTRO, GISELLE  |15   |\n",
      "|OLIVEIRA, ELAINE |22   |\n",
      "|LOURDES, JOAO    |43   |\n",
      "|FERREIRA, MARTA  |24   |\n",
      "|ROEDER, LAUDENETE|51   |\n",
      "+-----------------+-----+\n",
      "\n"
     ]
    }
   ],
   "source": [
    "df \\\n",
    "    .select(\n",
    "        f.concat_ws(\n",
    "            ', ', \n",
    "            f.substring_index('nome', ' ', -1), \n",
    "            f.substring_index('nome', ' ', 1)\n",
    "        ).alias('ident'), \n",
    "        'idade') \\\n",
    "    .show(truncate=False)"
   ]
  },
  {
   "cell_type": "markdown",
   "metadata": {},
   "source": [
    "## 2 - Ordene do aluno mais novo para o mais velho"
   ]
  },
  {
   "cell_type": "code",
   "execution_count": 21,
   "metadata": {},
   "outputs": [
    {
     "name": "stdout",
     "output_type": "stream",
     "text": [
      "+---------------------+---+----+\n",
      "|nome                 |mes|ano |\n",
      "+---------------------+---+----+\n",
      "|CARMINA RABELO       |4  |2010|\n",
      "|HERONDINA PEREIRA    |6  |2009|\n",
      "|IRANI DOS SANTOS     |12 |2010|\n",
      "|JOAO BOSCO DA FONSECA|3  |2009|\n",
      "|CARLITO SOUZA        |1  |2010|\n",
      "|WALTER DIAS          |9  |2009|\n",
      "|BRENO VENTUROSO      |1  |2009|\n",
      "|ADELINA TEIXEIRA     |5  |2009|\n",
      "|ELIO SILVA           |7  |2010|\n",
      "|DENIS FONSECA        |6  |2010|\n",
      "+---------------------+---+----+\n",
      "\n"
     ]
    }
   ],
   "source": [
    "data = [\n",
    "    ('CARMINA RABELO', 4, 2010), \n",
    "    ('HERONDINA PEREIRA', 6, 2009), \n",
    "    ('IRANI DOS SANTOS', 12, 2010), \n",
    "    ('JOAO BOSCO DA FONSECA', 3, 2009), \n",
    "    ('CARLITO SOUZA', 1, 2010), \n",
    "    ('WALTER DIAS', 9, 2009), \n",
    "    ('BRENO VENTUROSO', 1, 2009), \n",
    "    ('ADELINA TEIXEIRA', 5, 2009), \n",
    "    ('ELIO SILVA', 7, 2010), \n",
    "    ('DENIS FONSECA', 6, 2010)\n",
    "]\n",
    "colNames = ['nome', 'mes', 'ano']\n",
    "df = spark.createDataFrame(data, colNames)\n",
    "df.show(truncate=False)"
   ]
  },
  {
   "cell_type": "code",
   "execution_count": 22,
   "metadata": {},
   "outputs": [
    {
     "name": "stdout",
     "output_type": "stream",
     "text": [
      "+---------------------+---+----+\n",
      "|nome                 |mes|ano |\n",
      "+---------------------+---+----+\n",
      "|IRANI DOS SANTOS     |12 |2010|\n",
      "|ELIO SILVA           |7  |2010|\n",
      "|DENIS FONSECA        |6  |2010|\n",
      "|CARMINA RABELO       |4  |2010|\n",
      "|CARLITO SOUZA        |1  |2010|\n",
      "|WALTER DIAS          |9  |2009|\n",
      "|HERONDINA PEREIRA    |6  |2009|\n",
      "|ADELINA TEIXEIRA     |5  |2009|\n",
      "|JOAO BOSCO DA FONSECA|3  |2009|\n",
      "|BRENO VENTUROSO      |1  |2009|\n",
      "+---------------------+---+----+\n",
      "\n"
     ]
    }
   ],
   "source": [
    "df.select('*').orderBy(['ano','mes'],ascending=[False,False]).show(truncate=False)"
   ]
  },
  {
   "cell_type": "markdown",
   "metadata": {},
   "source": [
    "## 3 - Faça um filtro selecionando alunos nascidos no primeiro simestre de 2009"
   ]
  },
  {
   "cell_type": "code",
   "execution_count": 23,
   "metadata": {},
   "outputs": [
    {
     "name": "stdout",
     "output_type": "stream",
     "text": [
      "+---------------------+---+----+\n",
      "|nome                 |mes|ano |\n",
      "+---------------------+---+----+\n",
      "|CARMINA RABELO       |4  |2010|\n",
      "|HERONDINA PEREIRA    |6  |2009|\n",
      "|IRANI DOS SANTOS     |12 |2010|\n",
      "|JOAO BOSCO DA FONSECA|3  |2009|\n",
      "|CARLITO SOUZA        |1  |2010|\n",
      "|WALTER DIAS          |9  |2009|\n",
      "|BRENO VENTUROSO      |1  |2009|\n",
      "|ADELINA TEIXEIRA     |5  |2009|\n",
      "|ELIO SILVA           |7  |2010|\n",
      "|DENIS FONSECA        |6  |2010|\n",
      "+---------------------+---+----+\n",
      "\n"
     ]
    }
   ],
   "source": [
    "data = [\n",
    "    ('CARMINA RABELO', 4, 2010), \n",
    "    ('HERONDINA PEREIRA', 6, 2009), \n",
    "    ('IRANI DOS SANTOS', 12, 2010), \n",
    "    ('JOAO BOSCO DA FONSECA', 3, 2009), \n",
    "    ('CARLITO SOUZA', 1, 2010), \n",
    "    ('WALTER DIAS', 9, 2009), \n",
    "    ('BRENO VENTUROSO', 1, 2009), \n",
    "    ('ADELINA TEIXEIRA', 5, 2009), \n",
    "    ('ELIO SILVA', 7, 2010), \n",
    "    ('DENIS FONSECA', 6, 2010)\n",
    "]\n",
    "colNames = ['nome', 'mes', 'ano']\n",
    "df = spark.createDataFrame(data, colNames)\n",
    "df.show(truncate=False)"
   ]
  },
  {
   "cell_type": "code",
   "execution_count": 24,
   "metadata": {},
   "outputs": [
    {
     "name": "stdout",
     "output_type": "stream",
     "text": [
      "+---------------------+---+----+\n",
      "|nome                 |mes|ano |\n",
      "+---------------------+---+----+\n",
      "|HERONDINA PEREIRA    |6  |2009|\n",
      "|JOAO BOSCO DA FONSECA|3  |2009|\n",
      "|BRENO VENTUROSO      |1  |2009|\n",
      "|ADELINA TEIXEIRA     |5  |2009|\n",
      "+---------------------+---+----+\n",
      "\n"
     ]
    }
   ],
   "source": [
    "df\\\n",
    "    .filter(df.mes <=6)\\\n",
    "    .filter(df.ano == 2009)\\\n",
    "    .show(truncate=False)"
   ]
  },
  {
   "cell_type": "code",
   "execution_count": 25,
   "metadata": {},
   "outputs": [
    {
     "name": "stdout",
     "output_type": "stream",
     "text": [
      "+---------------------+---+----+\n",
      "|nome                 |mes|ano |\n",
      "+---------------------+---+----+\n",
      "|HERONDINA PEREIRA    |6  |2009|\n",
      "|JOAO BOSCO DA FONSECA|3  |2009|\n",
      "|BRENO VENTUROSO      |1  |2009|\n",
      "|ADELINA TEIXEIRA     |5  |2009|\n",
      "+---------------------+---+----+\n",
      "\n"
     ]
    }
   ],
   "source": [
    "df\\\n",
    "    .filter(\"mes<=6\")\\\n",
    "    .filter(\"ano=2009\")\\\n",
    "    .show(truncate=False)"
   ]
  },
  {
   "cell_type": "code",
   "execution_count": 26,
   "metadata": {},
   "outputs": [
    {
     "name": "stdout",
     "output_type": "stream",
     "text": [
      "+---------------------+---+----+\n",
      "|nome                 |mes|ano |\n",
      "+---------------------+---+----+\n",
      "|HERONDINA PEREIRA    |6  |2009|\n",
      "|JOAO BOSCO DA FONSECA|3  |2009|\n",
      "|BRENO VENTUROSO      |1  |2009|\n",
      "|ADELINA TEIXEIRA     |5  |2009|\n",
      "+---------------------+---+----+\n",
      "\n"
     ]
    }
   ],
   "source": [
    "df\\\n",
    "    .filter((df.mes <= 6) & (df.ano == 2009))\\\n",
    "    .show(truncate=False)"
   ]
  },
  {
   "cell_type": "markdown",
   "metadata": {},
   "source": [
    "## 4 - Selecione apenas alunos que iniciam com a letra C"
   ]
  },
  {
   "cell_type": "code",
   "execution_count": 27,
   "metadata": {},
   "outputs": [
    {
     "name": "stdout",
     "output_type": "stream",
     "text": [
      "+---------------------+---+----+\n",
      "|nome                 |mes|ano |\n",
      "+---------------------+---+----+\n",
      "|CARMINA RABELO       |4  |2010|\n",
      "|HERONDINA PEREIRA    |6  |2009|\n",
      "|IRANI DOS SANTOS     |12 |2010|\n",
      "|JOAO BOSCO DA FONSECA|3  |2009|\n",
      "|CARLITO SOUZA        |1  |2010|\n",
      "|WALTER DIAS          |9  |2009|\n",
      "|BRENO VENTUROSO      |1  |2009|\n",
      "|ADELINA TEIXEIRA     |5  |2009|\n",
      "|ELIO SILVA           |7  |2010|\n",
      "|DENIS FONSECA        |6  |2010|\n",
      "+---------------------+---+----+\n",
      "\n"
     ]
    }
   ],
   "source": [
    "data = [\n",
    "    ('CARMINA RABELO', 4, 2010), \n",
    "    ('HERONDINA PEREIRA', 6, 2009), \n",
    "    ('IRANI DOS SANTOS', 12, 2010), \n",
    "    ('JOAO BOSCO DA FONSECA', 3, 2009), \n",
    "    ('CARLITO SOUZA', 1, 2010), \n",
    "    ('WALTER DIAS', 9, 2009), \n",
    "    ('BRENO VENTUROSO', 1, 2009), \n",
    "    ('ADELINA TEIXEIRA', 5, 2009), \n",
    "    ('ELIO SILVA', 7, 2010), \n",
    "    ('DENIS FONSECA', 6, 2010)\n",
    "]\n",
    "colNames = ['nome', 'mes', 'ano']\n",
    "df = spark.createDataFrame(data, colNames)\n",
    "df.show(truncate=False)"
   ]
  },
  {
   "cell_type": "code",
   "execution_count": 32,
   "metadata": {},
   "outputs": [
    {
     "name": "stdout",
     "output_type": "stream",
     "text": [
      "+--------------+---+----+\n",
      "|nome          |mes|ano |\n",
      "+--------------+---+----+\n",
      "|CARMINA RABELO|4  |2010|\n",
      "|CARLITO SOUZA |1  |2010|\n",
      "+--------------+---+----+\n",
      "\n"
     ]
    }
   ],
   "source": [
    "df.filter(df.nome.like('C%')).show(truncate=False)"
   ]
  },
  {
   "cell_type": "markdown",
   "metadata": {},
   "source": [
    "## 5 - Crie um rotina utilizando \"when\" onde os alunos aprovados tem a nota maior ou igual a 7"
   ]
  },
  {
   "cell_type": "code",
   "execution_count": 33,
   "metadata": {},
   "outputs": [
    {
     "name": "stdout",
     "output_type": "stream",
     "text": [
      "+-------+----------+----+\n",
      "|   nome|   materia|nota|\n",
      "+-------+----------+----+\n",
      "| CARLOS|MATEMÁTICA|   7|\n",
      "|    IVO|MATEMÁTICA|   9|\n",
      "| MÁRCIA|MATEMÁTICA|   8|\n",
      "|  LEILA|MATEMÁTICA|   9|\n",
      "|  BRENO|MATEMÁTICA|   7|\n",
      "|LETÍCIA|MATEMÁTICA|   8|\n",
      "| CARLOS|    FÍSICA|   2|\n",
      "|    IVO|    FÍSICA|   8|\n",
      "| MÁRCIA|    FÍSICA|  10|\n",
      "|  LEILA|    FÍSICA|   9|\n",
      "|  BRENO|    FÍSICA|   1|\n",
      "|LETÍCIA|    FÍSICA|   6|\n",
      "| CARLOS|   QUÍMICA|  10|\n",
      "|    IVO|   QUÍMICA|   8|\n",
      "| MÁRCIA|   QUÍMICA|   1|\n",
      "|  LEILA|   QUÍMICA|  10|\n",
      "|  BRENO|   QUÍMICA|   7|\n",
      "|LETÍCIA|   QUÍMICA|   9|\n",
      "+-------+----------+----+\n",
      "\n"
     ]
    }
   ],
   "source": [
    "data = [\n",
    "    ('CARLOS', 'MATEMÁTICA', 7), \n",
    "    ('IVO', 'MATEMÁTICA', 9), \n",
    "    ('MÁRCIA', 'MATEMÁTICA', 8), \n",
    "    ('LEILA', 'MATEMÁTICA', 9), \n",
    "    ('BRENO', 'MATEMÁTICA', 7), \n",
    "    ('LETÍCIA', 'MATEMÁTICA', 8), \n",
    "    ('CARLOS', 'FÍSICA', 2), \n",
    "    ('IVO', 'FÍSICA', 8), \n",
    "    ('MÁRCIA', 'FÍSICA', 10), \n",
    "    ('LEILA', 'FÍSICA', 9), \n",
    "    ('BRENO', 'FÍSICA', 1), \n",
    "    ('LETÍCIA', 'FÍSICA', 6), \n",
    "    ('CARLOS', 'QUÍMICA', 10), \n",
    "    ('IVO', 'QUÍMICA', 8), \n",
    "    ('MÁRCIA', 'QUÍMICA', 1), \n",
    "    ('LEILA', 'QUÍMICA', 10), \n",
    "    ('BRENO', 'QUÍMICA', 7), \n",
    "    ('LETÍCIA', 'QUÍMICA', 9)\n",
    "]\n",
    "colNames = ['nome', 'materia', 'nota']\n",
    "df = spark.createDataFrame(data, colNames)\n",
    "df.show()"
   ]
  },
  {
   "cell_type": "code",
   "execution_count": 34,
   "metadata": {},
   "outputs": [
    {
     "name": "stdout",
     "output_type": "stream",
     "text": [
      "+-------+----------+----+---------+\n",
      "|   nome|   materia|nota|   status|\n",
      "+-------+----------+----+---------+\n",
      "| CARLOS|MATEMÁTICA|   7| APROVADO|\n",
      "|    IVO|MATEMÁTICA|   9| APROVADO|\n",
      "| MÁRCIA|MATEMÁTICA|   8| APROVADO|\n",
      "|  LEILA|MATEMÁTICA|   9| APROVADO|\n",
      "|  BRENO|MATEMÁTICA|   7| APROVADO|\n",
      "|LETÍCIA|MATEMÁTICA|   8| APROVADO|\n",
      "| CARLOS|    FÍSICA|   2|REPROVADO|\n",
      "|    IVO|    FÍSICA|   8| APROVADO|\n",
      "| MÁRCIA|    FÍSICA|  10| APROVADO|\n",
      "|  LEILA|    FÍSICA|   9| APROVADO|\n",
      "|  BRENO|    FÍSICA|   1|REPROVADO|\n",
      "|LETÍCIA|    FÍSICA|   6|REPROVADO|\n",
      "| CARLOS|   QUÍMICA|  10| APROVADO|\n",
      "|    IVO|   QUÍMICA|   8| APROVADO|\n",
      "| MÁRCIA|   QUÍMICA|   1|REPROVADO|\n",
      "|  LEILA|   QUÍMICA|  10| APROVADO|\n",
      "|  BRENO|   QUÍMICA|   7| APROVADO|\n",
      "|LETÍCIA|   QUÍMICA|   9| APROVADO|\n",
      "+-------+----------+----+---------+\n",
      "\n"
     ]
    }
   ],
   "source": [
    "df = df.withColumn('status', f.when(df.nota >= 7, \"APROVADO\").otherwise(\"REPROVADO\"))\n",
    "df.show()"
   ]
  },
  {
   "cell_type": "markdown",
   "metadata": {},
   "source": [
    "## 6 - Join"
   ]
  },
  {
   "cell_type": "code",
   "execution_count": 35,
   "metadata": {},
   "outputs": [],
   "source": [
    "produtos = spark.createDataFrame(\n",
    "    [\n",
    "        ('1', 'Bebidas', 'Água mineral'), \n",
    "        ('2', 'Limpeza', 'Sabão em pó'), \n",
    "        ('3', 'Frios', 'Queijo'), \n",
    "        ('4', 'Bebidas', 'Refrigerante'),\n",
    "        ('5', 'Pet', 'Ração para cães')\n",
    "    ],\n",
    "    ['id', 'cat', 'prod']\n",
    ")\n",
    "\n",
    "impostos = spark.createDataFrame(\n",
    "    [\n",
    "        ('Bebidas', 0.15), \n",
    "        ('Limpeza', 0.05),\n",
    "        ('Frios', 0.065),\n",
    "        ('Carnes', 0.08)\n",
    "    ],\n",
    "    ['cat', 'tax']\n",
    ")"
   ]
  },
  {
   "cell_type": "code",
   "execution_count": 41,
   "metadata": {},
   "outputs": [
    {
     "name": "stdout",
     "output_type": "stream",
     "text": [
      "+-------+---+------------+-----+\n",
      "|    cat| id|        prod|  tax|\n",
      "+-------+---+------------+-----+\n",
      "|Bebidas|  1|Água mineral| 0.15|\n",
      "|Limpeza|  2| Sabão em pó| 0.05|\n",
      "|  Frios|  3|      Queijo|0.065|\n",
      "|Bebidas|  4|Refrigerante| 0.15|\n",
      "+-------+---+------------+-----+\n",
      "\n"
     ]
    }
   ],
   "source": [
    "# Interseção\n",
    "produtos.join(impostos, 'cat', how='inner').sort('id').show()"
   ]
  },
  {
   "cell_type": "code",
   "execution_count": 38,
   "metadata": {},
   "outputs": [
    {
     "name": "stdout",
     "output_type": "stream",
     "text": [
      "+-------+---+---------------+-----+\n",
      "|    cat| id|           prod|  tax|\n",
      "+-------+---+---------------+-----+\n",
      "|Bebidas|  1|   Água mineral| 0.15|\n",
      "|Limpeza|  2|    Sabão em pó| 0.05|\n",
      "|  Frios|  3|         Queijo|0.065|\n",
      "|Bebidas|  4|   Refrigerante| 0.15|\n",
      "|    Pet|  5|Ração para cães| null|\n",
      "+-------+---+---------------+-----+\n",
      "\n"
     ]
    }
   ],
   "source": [
    "produtos.join(impostos, 'cat', how='left').sort('id').show()"
   ]
  },
  {
   "cell_type": "code",
   "execution_count": 39,
   "metadata": {},
   "outputs": [
    {
     "name": "stdout",
     "output_type": "stream",
     "text": [
      "+-------+----+------------+-----+\n",
      "|    cat|  id|        prod|  tax|\n",
      "+-------+----+------------+-----+\n",
      "| Carnes|null|        null| 0.08|\n",
      "|Bebidas|   1|Água mineral| 0.15|\n",
      "|Limpeza|   2| Sabão em pó| 0.05|\n",
      "|  Frios|   3|      Queijo|0.065|\n",
      "|Bebidas|   4|Refrigerante| 0.15|\n",
      "+-------+----+------------+-----+\n",
      "\n"
     ]
    }
   ],
   "source": [
    "produtos.join(impostos, 'cat', how='right').sort('id').show()"
   ]
  },
  {
   "cell_type": "code",
   "execution_count": 40,
   "metadata": {},
   "outputs": [
    {
     "name": "stdout",
     "output_type": "stream",
     "text": [
      "+-------+----+---------------+-----+\n",
      "|    cat|  id|           prod|  tax|\n",
      "+-------+----+---------------+-----+\n",
      "| Carnes|null|           null| 0.08|\n",
      "|Bebidas|   1|   Água mineral| 0.15|\n",
      "|Limpeza|   2|    Sabão em pó| 0.05|\n",
      "|  Frios|   3|         Queijo|0.065|\n",
      "|Bebidas|   4|   Refrigerante| 0.15|\n",
      "|    Pet|   5|Ração para cães| null|\n",
      "+-------+----+---------------+-----+\n",
      "\n"
     ]
    }
   ],
   "source": [
    "# Todo mundo\n",
    "produtos.join(impostos, 'cat', how='outer').sort('id').show()"
   ]
  }
 ],
 "metadata": {
  "kernelspec": {
   "display_name": "base",
   "language": "python",
   "name": "python3"
  },
  "language_info": {
   "codemirror_mode": {
    "name": "ipython",
    "version": 3
   },
   "file_extension": ".py",
   "mimetype": "text/x-python",
   "name": "python",
   "nbconvert_exporter": "python",
   "pygments_lexer": "ipython3",
   "version": "3.11.7"
  }
 },
 "nbformat": 4,
 "nbformat_minor": 2
}
